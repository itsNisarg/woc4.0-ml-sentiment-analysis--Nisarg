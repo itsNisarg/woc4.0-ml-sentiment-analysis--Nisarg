{
  "nbformat": 4,
  "nbformat_minor": 0,
  "metadata": {
    "colab": {
      "name": "NumPy exercises",
      "provenance": [],
      "collapsed_sections": []
    },
    "kernelspec": {
      "display_name": "Python 3",
      "name": "python3"
    }
  },
  "cells": [
    {
      "cell_type": "code",
      "metadata": {
        "id": "EnhORJMC5NHc"
      },
      "source": [
        "import numpy as np"
      ],
      "execution_count": 1,
      "outputs": []
    },
    {
      "cell_type": "markdown",
      "metadata": {
        "id": "dp92tsiV49wM"
      },
      "source": [
        "# Part 1: Creating ndarrays"
      ]
    },
    {
      "cell_type": "markdown",
      "metadata": {
        "id": "kI-sYE8f5L4P"
      },
      "source": [
        "1. Convert the below given list of strings to an int32 NumPy array"
      ]
    },
    {
      "cell_type": "code",
      "metadata": {
        "id": "E_nNMLpu5PE2"
      },
      "source": [
        "slist = ['2.5', '1.25', '0.024','2.999','1024.5']"
      ],
      "execution_count": 2,
      "outputs": []
    },
    {
      "cell_type": "code",
      "metadata": {
        "id": "guqHmLhqWxzJ",
        "outputId": "3024dd2a-6138-4b1b-c90f-2e8011cbd6d5",
        "colab": {
          "base_uri": "https://localhost:8080/"
        }
      },
      "source": [
        "# Write your code here\n",
        "arr = np.array(slist).astype(\"float\")\n",
        "arr = arr.astype(\"int32\")\n",
        "arr"
      ],
      "execution_count": 8,
      "outputs": [
        {
          "output_type": "execute_result",
          "data": {
            "text/plain": [
              "array([   2,    1,    0,    2, 1024], dtype=int32)"
            ]
          },
          "metadata": {},
          "execution_count": 8
        }
      ]
    },
    {
      "cell_type": "markdown",
      "metadata": {
        "id": "6uPLqLMu5Wo0"
      },
      "source": [
        "2. Create an empty 5x5 NumPy matrix"
      ]
    },
    {
      "cell_type": "code",
      "metadata": {
        "id": "cxRRTaVWWvqn",
        "outputId": "da0b0162-3261-4dcc-e7e3-602409fe1a9d",
        "colab": {
          "base_uri": "https://localhost:8080/"
        }
      },
      "source": [
        "# Write your code here\n",
        "emp55 = np.empty((5,5))\n",
        "print(emp55)\n",
        "print(\"Shape =\",emp55.shape)"
      ],
      "execution_count": 13,
      "outputs": [
        {
          "output_type": "stream",
          "name": "stdout",
          "text": [
            "[[4.66878668e-310 0.00000000e+000 0.00000000e+000 0.00000000e+000\n",
            "  0.00000000e+000]\n",
            " [0.00000000e+000 0.00000000e+000 0.00000000e+000 0.00000000e+000\n",
            "  0.00000000e+000]\n",
            " [0.00000000e+000 0.00000000e+000 0.00000000e+000 0.00000000e+000\n",
            "  0.00000000e+000]\n",
            " [0.00000000e+000 0.00000000e+000 0.00000000e+000 0.00000000e+000\n",
            "  0.00000000e+000]\n",
            " [0.00000000e+000 0.00000000e+000 0.00000000e+000 0.00000000e+000\n",
            "  0.00000000e+000]]\n",
            "Shape = (5, 5)\n"
          ]
        }
      ]
    },
    {
      "cell_type": "markdown",
      "metadata": {
        "id": "AOdcEdnA5f3B"
      },
      "source": [
        "# Part 2: Operations between Arrays and Scalars"
      ]
    },
    {
      "cell_type": "markdown",
      "metadata": {
        "id": "tKvPKAct5lT_"
      },
      "source": [
        "3. Create a 1x7 Numpy array whose elements consist of a geometric progression with a = 1 & r = 3, terms are arranged indexwise, for ex"
      ]
    },
    {
      "cell_type": "code",
      "metadata": {
        "id": "m8hVg-mV5mAn"
      },
      "source": [
        "sample_output = [1,3,9,27,81]"
      ],
      "execution_count": 16,
      "outputs": []
    },
    {
      "cell_type": "code",
      "metadata": {
        "id": "yRh4_XudW7YR",
        "outputId": "74a77f88-6092-4b6a-8a48-82455805c9ec",
        "colab": {
          "base_uri": "https://localhost:8080/"
        }
      },
      "source": [
        "# Write your code here\n",
        "gp = np.geomspace(1, 3**7, num=7, endpoint=False)\n",
        "gp"
      ],
      "execution_count": 18,
      "outputs": [
        {
          "output_type": "execute_result",
          "data": {
            "text/plain": [
              "array([  1.,   3.,   9.,  27.,  81., 243., 729.])"
            ]
          },
          "metadata": {},
          "execution_count": 18
        }
      ]
    },
    {
      "cell_type": "markdown",
      "metadata": {
        "id": "olRCl-v8_JR9"
      },
      "source": [
        "4. Transform each of the element of the below matrix according to the below equation\n",
        "\n",
        "    if x is an elements in input matrix, output matrix should have \n",
        "$1/(x^2 + 1)$ in its place\n",
        "\n"
      ]
    },
    {
      "cell_type": "code",
      "metadata": {
        "id": "7ZZoyVXZAq9G"
      },
      "source": [
        "mat = [[1,2,3],[4,5,6]]"
      ],
      "execution_count": 32,
      "outputs": []
    },
    {
      "cell_type": "code",
      "metadata": {
        "id": "qc_muADhXCFh",
        "outputId": "8e1819b2-c182-42d9-e2b4-5e52fb9d8736",
        "colab": {
          "base_uri": "https://localhost:8080/"
        }
      },
      "source": [
        "# Write your code here\n",
        "mat = np.array(mat)\n",
        "mat = 1 / (np.multiply(mat,mat) + 1)\n",
        "mat"
      ],
      "execution_count": 34,
      "outputs": [
        {
          "output_type": "execute_result",
          "data": {
            "text/plain": [
              "array([[0.5       , 0.2       , 0.1       ],\n",
              "       [0.05882353, 0.03846154, 0.02702703]])"
            ]
          },
          "metadata": {},
          "execution_count": 34
        }
      ]
    },
    {
      "cell_type": "markdown",
      "metadata": {
        "id": "SMuOfjq7DCkH"
      },
      "source": [
        "# Part 3: Basic Indexing and Slicing"
      ]
    },
    {
      "cell_type": "markdown",
      "metadata": {
        "id": "dxqj_uPbEOik"
      },
      "source": [
        "5. Make a 5x5 NumPy array of all zeros and use indexing and broadcasting to modify it such that all the elements not on the border are 1, for example"
      ]
    },
    {
      "cell_type": "code",
      "metadata": {
        "colab": {
          "base_uri": "https://localhost:8080/"
        },
        "id": "5Le5dW3IEh6_",
        "outputId": "35fa378b-b170-4388-8ab7-757c4da750ab"
      },
      "source": [
        "output_sample = np.array([[0,0,0,0,0],[0,1,1,1,0],[0,1,1,1,0],[0,1,1,1,0],[0,0,0,0,0]])\n",
        "output_sample"
      ],
      "execution_count": null,
      "outputs": [
        {
          "output_type": "execute_result",
          "data": {
            "text/plain": [
              "array([[0, 0, 0, 0, 0],\n",
              "       [0, 1, 1, 1, 0],\n",
              "       [0, 1, 1, 1, 0],\n",
              "       [0, 1, 1, 1, 0],\n",
              "       [0, 0, 0, 0, 0]])"
            ]
          },
          "metadata": {
            "tags": []
          },
          "execution_count": 48
        }
      ]
    },
    {
      "cell_type": "code",
      "metadata": {
        "id": "A7jJSywYXIvr",
        "outputId": "489bf685-5b25-4133-ae37-e5b93ca3fc8c",
        "colab": {
          "base_uri": "https://localhost:8080/"
        }
      },
      "source": [
        "#write your code here\n",
        "bg = np.zeros(shape=(5,5), dtype=\"int8\")\n",
        "bg[1:-1,1:-1] = 1\n",
        "bg\n"
      ],
      "execution_count": 46,
      "outputs": [
        {
          "output_type": "execute_result",
          "data": {
            "text/plain": [
              "array([[0, 0, 0, 0, 0],\n",
              "       [0, 1, 1, 1, 0],\n",
              "       [0, 1, 1, 1, 0],\n",
              "       [0, 1, 1, 1, 0],\n",
              "       [0, 0, 0, 0, 0]], dtype=int8)"
            ]
          },
          "metadata": {},
          "execution_count": 46
        }
      ]
    },
    {
      "cell_type": "markdown",
      "metadata": {
        "id": "K0hJTUXkFdfA"
      },
      "source": [
        "6. Given the 3x3x3, 3-dimensional NumPy array"
      ]
    },
    {
      "cell_type": "code",
      "metadata": {
        "colab": {
          "base_uri": "https://localhost:8080/"
        },
        "id": "POO1yEFNGQnT",
        "outputId": "3ee3877c-7bc4-460a-d6c3-31ab17211a84"
      },
      "source": [
        "arr = np.arange(27).reshape((3,3,3))\n",
        "arr"
      ],
      "execution_count": 47,
      "outputs": [
        {
          "output_type": "execute_result",
          "data": {
            "text/plain": [
              "array([[[ 0,  1,  2],\n",
              "        [ 3,  4,  5],\n",
              "        [ 6,  7,  8]],\n",
              "\n",
              "       [[ 9, 10, 11],\n",
              "        [12, 13, 14],\n",
              "        [15, 16, 17]],\n",
              "\n",
              "       [[18, 19, 20],\n",
              "        [21, 22, 23],\n",
              "        [24, 25, 26]]])"
            ]
          },
          "metadata": {},
          "execution_count": 47
        }
      ]
    },
    {
      "cell_type": "markdown",
      "metadata": {
        "id": "J0VtaaOtG2dH"
      },
      "source": [
        "i. Slice this matrix to contain only second and third rows, first and second columns of the given matrix."
      ]
    },
    {
      "cell_type": "code",
      "source": [
        "sample_output = np.array([[[3,4],[6,7]],[[12,13],[15,16]],[[21,22],[24,25]]])\n",
        "sample_output"
      ],
      "metadata": {
        "colab": {
          "base_uri": "https://localhost:8080/"
        },
        "id": "0NnEUUN-gOB5",
        "outputId": "0e815cea-28b2-4a2a-bd55-9d94ee8c30ef"
      },
      "execution_count": null,
      "outputs": [
        {
          "output_type": "execute_result",
          "data": {
            "text/plain": [
              "array([[[ 3,  4],\n",
              "        [ 6,  7]],\n",
              "\n",
              "       [[12, 13],\n",
              "        [15, 16]],\n",
              "\n",
              "       [[21, 22],\n",
              "        [24, 25]]])"
            ]
          },
          "metadata": {},
          "execution_count": 3
        }
      ]
    },
    {
      "cell_type": "code",
      "metadata": {
        "id": "TvzAXsUDXNA7",
        "outputId": "6bc642a0-9292-4d42-b94e-a79739ec539a",
        "colab": {
          "base_uri": "https://localhost:8080/"
        }
      },
      "source": [
        "#write your code here\n",
        "ans = arr[:, 1:,:2]\n",
        "ans"
      ],
      "execution_count": 50,
      "outputs": [
        {
          "output_type": "execute_result",
          "data": {
            "text/plain": [
              "array([[[ 3,  4],\n",
              "        [ 6,  7]],\n",
              "\n",
              "       [[12, 13],\n",
              "        [15, 16]],\n",
              "\n",
              "       [[21, 22],\n",
              "        [24, 25]]])"
            ]
          },
          "metadata": {},
          "execution_count": 50
        }
      ]
    },
    {
      "cell_type": "markdown",
      "metadata": {
        "id": "NBGc_zTdHxWD"
      },
      "source": [
        "ii. Output a two dimensional matrix as shown below"
      ]
    },
    {
      "cell_type": "code",
      "metadata": {
        "colab": {
          "base_uri": "https://localhost:8080/"
        },
        "id": "Y2WOfAhGH-O7",
        "outputId": "0e340a6d-285e-436f-ee02-e5f3a02c2e68"
      },
      "source": [
        "sample_output = np.array([[0,3,6],[9,12,15],[18,21,14]])\n",
        "sample_output"
      ],
      "execution_count": null,
      "outputs": [
        {
          "output_type": "execute_result",
          "data": {
            "text/plain": [
              "array([[ 0,  3,  6],\n",
              "       [ 9, 12, 15],\n",
              "       [18, 21, 14]])"
            ]
          },
          "metadata": {
            "tags": []
          },
          "execution_count": 54
        }
      ]
    },
    {
      "cell_type": "code",
      "metadata": {
        "id": "4PmA4j3cXVfe",
        "outputId": "39e27aa4-b4a4-4539-8074-fb93548617f0",
        "colab": {
          "base_uri": "https://localhost:8080/"
        }
      },
      "source": [
        "#write your code here\n",
        "ans = arr[:,:,:1].reshape((3,3))\n",
        "ans"
      ],
      "execution_count": 53,
      "outputs": [
        {
          "output_type": "execute_result",
          "data": {
            "text/plain": [
              "array([[ 0,  3,  6],\n",
              "       [ 9, 12, 15],\n",
              "       [18, 21, 24]])"
            ]
          },
          "metadata": {},
          "execution_count": 53
        }
      ]
    },
    {
      "cell_type": "markdown",
      "metadata": {
        "id": "ARJHpbXiIe5p"
      },
      "source": [
        "# Part 4: Boolean Indexing"
      ]
    },
    {
      "cell_type": "markdown",
      "metadata": {
        "id": "evJTyDSOIpcT"
      },
      "source": [
        "7. Given the following array, modify it such that even values stay the same and output contains 0s instead of odd values"
      ]
    },
    {
      "cell_type": "code",
      "metadata": {
        "colab": {
          "base_uri": "https://localhost:8080/"
        },
        "id": "aCzMmII5I3OV",
        "outputId": "72cc6b6a-8d3d-41d7-ed6c-b079f8b87e48"
      },
      "source": [
        "arr = np.arange(9).reshape((3,3))\n",
        "arr"
      ],
      "execution_count": 56,
      "outputs": [
        {
          "output_type": "execute_result",
          "data": {
            "text/plain": [
              "array([[0, 1, 2],\n",
              "       [3, 4, 5],\n",
              "       [6, 7, 8]])"
            ]
          },
          "metadata": {},
          "execution_count": 56
        }
      ]
    },
    {
      "cell_type": "code",
      "metadata": {
        "colab": {
          "base_uri": "https://localhost:8080/"
        },
        "id": "cUYDN-utI631",
        "outputId": "2b377f9f-c850-4061-97ab-2af302af8f0d"
      },
      "source": [
        "sample_output = np.array([[0,0,2],[0,4,0],[6,0,8]])\n",
        "sample_output"
      ],
      "execution_count": 57,
      "outputs": [
        {
          "output_type": "execute_result",
          "data": {
            "text/plain": [
              "array([[0, 0, 2],\n",
              "       [0, 4, 0],\n",
              "       [6, 0, 8]])"
            ]
          },
          "metadata": {},
          "execution_count": 57
        }
      ]
    },
    {
      "cell_type": "code",
      "metadata": {
        "id": "h2Z4fsdMXanz",
        "outputId": "a1c9c08a-8310-4510-9794-80ea84e19fda",
        "colab": {
          "base_uri": "https://localhost:8080/"
        }
      },
      "source": [
        "#write your code here\n",
        "arr[arr%2==1] = 0\n",
        "arr"
      ],
      "execution_count": 58,
      "outputs": [
        {
          "output_type": "execute_result",
          "data": {
            "text/plain": [
              "array([[0, 0, 2],\n",
              "       [0, 4, 0],\n",
              "       [6, 0, 8]])"
            ]
          },
          "metadata": {},
          "execution_count": 58
        }
      ]
    },
    {
      "cell_type": "markdown",
      "metadata": {
        "id": "ldtjYhuINJTS"
      },
      "source": [
        "# Part 5: Fancy Indexing"
      ]
    },
    {
      "cell_type": "markdown",
      "metadata": {
        "id": "MuId5CADOEil"
      },
      "source": [
        "8. For the given matrix, use fancy indexing to output a 2d matrix consisting all the even elements of the given matrix"
      ]
    },
    {
      "cell_type": "code",
      "metadata": {
        "colab": {
          "base_uri": "https://localhost:8080/"
        },
        "id": "OTq0propOlxk",
        "outputId": "3b5c72a7-201e-4136-bdb4-2e3126e9bfc1"
      },
      "source": [
        "arr = np.arange(32).reshape((8, 4))\n",
        "arr"
      ],
      "execution_count": 59,
      "outputs": [
        {
          "output_type": "execute_result",
          "data": {
            "text/plain": [
              "array([[ 0,  1,  2,  3],\n",
              "       [ 4,  5,  6,  7],\n",
              "       [ 8,  9, 10, 11],\n",
              "       [12, 13, 14, 15],\n",
              "       [16, 17, 18, 19],\n",
              "       [20, 21, 22, 23],\n",
              "       [24, 25, 26, 27],\n",
              "       [28, 29, 30, 31]])"
            ]
          },
          "metadata": {},
          "execution_count": 59
        }
      ]
    },
    {
      "cell_type": "code",
      "metadata": {
        "colab": {
          "base_uri": "https://localhost:8080/"
        },
        "id": "ghhE7MRVOrqX",
        "outputId": "fb289a86-ccfd-4f6c-a386-cfd20e97f6c9"
      },
      "source": [
        "sample_output = np.array([[ 0,  2],\n",
        "       [ 4,  6],\n",
        "       [ 8, 10],\n",
        "       [12, 14],\n",
        "       [16, 18],\n",
        "       [20, 22],\n",
        "       [24, 26],\n",
        "       [28, 30]])\n",
        "sample_output"
      ],
      "execution_count": null,
      "outputs": [
        {
          "output_type": "execute_result",
          "data": {
            "text/plain": [
              "array([[ 0,  2],\n",
              "       [ 4,  6],\n",
              "       [ 8, 10],\n",
              "       [12, 14],\n",
              "       [16, 18],\n",
              "       [20, 22],\n",
              "       [24, 26],\n",
              "       [28, 30]])"
            ]
          },
          "metadata": {
            "tags": []
          },
          "execution_count": 90
        }
      ]
    },
    {
      "cell_type": "code",
      "metadata": {
        "id": "HOPNWQLRXhqI",
        "outputId": "032a1395-a326-429e-b4ab-91ca945911d6",
        "colab": {
          "base_uri": "https://localhost:8080/"
        }
      },
      "source": [
        "# Write your code here\n",
        "arr[arr%2==0].reshape((8,2))"
      ],
      "execution_count": 65,
      "outputs": [
        {
          "output_type": "execute_result",
          "data": {
            "text/plain": [
              "array([[ 0,  2],\n",
              "       [ 4,  6],\n",
              "       [ 8, 10],\n",
              "       [12, 14],\n",
              "       [16, 18],\n",
              "       [20, 22],\n",
              "       [24, 26],\n",
              "       [28, 30]])"
            ]
          },
          "metadata": {},
          "execution_count": 65
        }
      ]
    },
    {
      "cell_type": "markdown",
      "metadata": {
        "id": "xj5lX_02SOa5"
      },
      "source": [
        "# Part 6: Expressing Conditional Logic as Array Operations\n",
        "\n"
      ]
    },
    {
      "cell_type": "markdown",
      "metadata": {
        "id": "BeZCKBFmScZW"
      },
      "source": [
        "Given two following matrices, use conditional logic to replace all the odd elements of matrix A with even elements of matrix B"
      ]
    },
    {
      "cell_type": "code",
      "metadata": {
        "colab": {
          "base_uri": "https://localhost:8080/"
        },
        "id": "amG797QGShmQ",
        "outputId": "0f28d965-0adc-4648-bf7a-705364079c64"
      },
      "source": [
        "A = np.arange(9).reshape((3,3))\n",
        "B = np.arange(1,10).reshape((3,3))\n",
        "print(A)\n",
        "print(B)"
      ],
      "execution_count": 66,
      "outputs": [
        {
          "output_type": "stream",
          "name": "stdout",
          "text": [
            "[[0 1 2]\n",
            " [3 4 5]\n",
            " [6 7 8]]\n",
            "[[1 2 3]\n",
            " [4 5 6]\n",
            " [7 8 9]]\n"
          ]
        }
      ]
    },
    {
      "cell_type": "code",
      "metadata": {
        "colab": {
          "base_uri": "https://localhost:8080/"
        },
        "id": "LvvT-mkFS9Fo",
        "outputId": "91db18ec-9a91-4660-d531-4414af6fc165"
      },
      "source": [
        "sample_output = np.array([[0, 2, 2],\n",
        "       [4, 4, 6],\n",
        "       [6, 8, 8]])\n",
        "sample_output"
      ],
      "execution_count": null,
      "outputs": [
        {
          "output_type": "execute_result",
          "data": {
            "text/plain": [
              "array([[0, 2, 2],\n",
              "       [4, 4, 6],\n",
              "       [6, 8, 8]])"
            ]
          },
          "metadata": {
            "tags": []
          },
          "execution_count": 95
        }
      ]
    },
    {
      "cell_type": "code",
      "metadata": {
        "id": "NFsduXBoXncx",
        "outputId": "b148bb6c-c5e7-4050-8d60-3138e1a93dcd",
        "colab": {
          "base_uri": "https://localhost:8080/"
        }
      },
      "source": [
        "# Write your code here\n",
        "A[A%2==1] = B[B%2==0]\n",
        "A"
      ],
      "execution_count": 70,
      "outputs": [
        {
          "output_type": "execute_result",
          "data": {
            "text/plain": [
              "array([[0, 2, 2],\n",
              "       [4, 4, 6],\n",
              "       [6, 8, 8]])"
            ]
          },
          "metadata": {},
          "execution_count": 70
        }
      ]
    },
    {
      "cell_type": "markdown",
      "metadata": {
        "id": "11T_pvkoUrIb"
      },
      "source": [
        "# Part 7: Linear Algebra"
      ]
    },
    {
      "cell_type": "markdown",
      "metadata": {
        "id": "z44KXIq9Uu8E"
      },
      "source": [
        "Given the following system of equations, solve for x and y using either `numpy.linalg.solve(m1,m2)` or using `inv` and `dot`\n",
        "\n",
        "2x + 5y = 20\n",
        "\n",
        "3x + 6y = 12"
      ]
    },
    {
      "cell_type": "code",
      "metadata": {
        "id": "XVppUEYjp-7a",
        "outputId": "763ad493-6797-48ef-8920-38c85276f77e",
        "colab": {
          "base_uri": "https://localhost:8080/"
        }
      },
      "source": [
        "#write your code here\n",
        "A = np.array([[2,5], [3,6]])\n",
        "B = np.array([20,12])\n",
        "\n",
        "X = np.linalg.solve(A,B)\n",
        "X"
      ],
      "execution_count": 73,
      "outputs": [
        {
          "output_type": "execute_result",
          "data": {
            "text/plain": [
              "array([-20.,  12.])"
            ]
          },
          "metadata": {},
          "execution_count": 73
        }
      ]
    },
    {
      "cell_type": "code",
      "source": [
        ""
      ],
      "metadata": {
        "id": "jnDDLvMp53Z0"
      },
      "execution_count": null,
      "outputs": []
    }
  ]
}